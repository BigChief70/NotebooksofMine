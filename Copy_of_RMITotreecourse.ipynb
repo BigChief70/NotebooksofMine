{
  "nbformat": 4,
  "nbformat_minor": 0,
  "metadata": {
    "colab": {
      "provenance": [],
      "authorship_tag": "ABX9TyNBj7RFyazzICWGtLwPXchW",
      "include_colab_link": true
    },
    "kernelspec": {
      "name": "python3",
      "display_name": "Python 3"
    },
    "language_info": {
      "name": "python"
    }
  },
  "cells": [
    {
      "cell_type": "markdown",
      "metadata": {
        "id": "view-in-github",
        "colab_type": "text"
      },
      "source": [
        "<a href=\"https://colab.research.google.com/github/BigChief70/NotebooksofMine/blob/main/Copy_of_RMITotreecourse.ipynb\" target=\"_parent\"><img src=\"https://colab.research.google.com/assets/colab-badge.svg\" alt=\"Open In Colab\"/></a>"
      ]
    },
    {
      "cell_type": "markdown",
      "source": [
        "**Starting off with introduction to python code variable types**\n",
        "\n",
        "*   Printing strings\n",
        "*   Appending strings\n",
        "*   Using strings and integer field together.\n",
        "\n"
      ],
      "metadata": {
        "id": "6GYxgCn4bykm"
      }
    },
    {
      "cell_type": "code",
      "execution_count": 1,
      "metadata": {
        "colab": {
          "base_uri": "https://localhost:8080/"
        },
        "id": "NtoahYwDXfn4",
        "outputId": "8bcfe2a6-a4c0-4111-fc35-5fc20b4f4376"
      },
      "outputs": [
        {
          "output_type": "stream",
          "name": "stdout",
          "text": [
            "sylvanus\n",
            "SYLVANUS\n",
            "sylvanus\n",
            "Sylvanus\n",
            "sylvanus is 20\n"
          ]
        }
      ],
      "source": [
        "name = 'sylvanus'\n",
        "print(name)\n",
        "\n",
        "print(name.upper())\n",
        "print(name.lower())\n",
        "\n",
        "print(name.upper().replace('YLVANUS','ylvanus'))\n",
        "\n",
        "age = 20\n",
        "\n",
        "print(name + ' is ' + str(age))\n",
        "\n"
      ]
    },
    {
      "cell_type": "markdown",
      "source": [
        "**Using formulas with integers and introducing logic tests**\n",
        "\n",
        "*   Making integer fields\n",
        "*   Playing with basic sums.\n",
        "*   Testing equality"
      ],
      "metadata": {
        "id": "urCqYg4ecuOP"
      }
    },
    {
      "cell_type": "code",
      "source": [
        "x,y = 9,2\n",
        "print(x%y +100 ** 5 == 3)\n",
        "\n",
        "print(x%y)\n",
        "print(x//y)\n",
        "\n",
        "print(x%y +100 **5)\n",
        "\n",
        "print(x%y + 100 ** 5 == 10000000001)\n",
        "\n"
      ],
      "metadata": {
        "id": "-XR8v_VgceDm"
      },
      "execution_count": null,
      "outputs": []
    },
    {
      "cell_type": "code",
      "source": [
        "my_list = [5,7,9]\n",
        "mixed = [1, \"app\", True, 3.14, [1.2]]\n",
        "lst =[1,2]\n",
        "print(len(lst))\n",
        "print(lst[0])\n",
        "print(lst[-1])\n",
        "lst.append(3)\n",
        "print(lst)\n",
        "print(lst.pop())\n",
        "print(lst)\n",
        "\n",
        "print(\"append list:\")\n",
        "lst.append([3,4,7,6,2,0,9])\n",
        "print(lst)\n",
        "\n",
        "print(\"making lst2:\")\n",
        "lst2 = lst.pop()\n",
        "lst.append(3)\n",
        "print(lst)\n",
        "print(lst2)\n",
        "\n",
        "nest = [1,2,[3,4]]\n",
        "nest[2][1]\n",
        "\n",
        "print(\"sorted lst2\")\n",
        "lst2_1 = sorted(lst2)\n",
        "print(lst2_1)\n",
        "\n",
        "#can also use sort() function but does not output anything like sorted(), just alters existing list.\n",
        "\n",
        "print(\"sort not sorted\")\n",
        "lst2.sort()\n",
        "print(lst2)\n",
        "\n",
        "\n"
      ],
      "metadata": {
        "id": "R1hHzXWXaid9",
        "colab": {
          "base_uri": "https://localhost:8080/"
        },
        "outputId": "02ac4179-4210-40ba-9eee-9ae9e65afe77"
      },
      "execution_count": 21,
      "outputs": [
        {
          "output_type": "stream",
          "name": "stdout",
          "text": [
            "2\n",
            "1\n",
            "2\n",
            "[1, 2, 3]\n",
            "3\n",
            "[1, 2]\n",
            "append list:\n",
            "[1, 2, [3, 4, 7, 6, 2, 0, 9]]\n",
            "making lst2:\n",
            "[1, 2, 3]\n",
            "[3, 4, 7, 6, 2, 0, 9]\n",
            "sorted lst2\n",
            "[0, 2, 3, 4, 6, 7, 9]\n",
            "sort not sorted\n",
            "[0, 2, 3, 4, 6, 7, 9]\n"
          ]
        }
      ]
    },
    {
      "cell_type": "code",
      "source": [
        "#Dictionaries\n",
        "\n",
        "my_dict = {\n",
        "    'cat': 'cute',\n",
        "    'dog': 'furry'\n",
        "}\n",
        "\n",
        "#or can use:\n",
        "\n",
        "my_dict = dict(\n",
        "    cat='cute',\n",
        "    dog='furry'\n",
        ")\n",
        "\n",
        "d = {'1': True, 'a':6}\n",
        "\n",
        "dictionary = {'key1':{'apple':30},'key2':56}\n",
        "\n",
        "print(dictionary.get('key3')) #get outputs 'missing' and does not cause error, very useful!!\n",
        "\n",
        "print(dictionary.get('key2'))\n",
        "\n",
        "print(dictionary.get('key1'))\n"
      ],
      "metadata": {
        "colab": {
          "base_uri": "https://localhost:8080/"
        },
        "id": "GwWXBNeVgCGc",
        "outputId": "b3cdb81a-b6a7-42b4-d38c-bbc50ad5b40a"
      },
      "execution_count": 22,
      "outputs": [
        {
          "output_type": "stream",
          "name": "stdout",
          "text": [
            "None\n",
            "56\n",
            "{'apple': 30}\n"
          ]
        }
      ]
    },
    {
      "cell_type": "code",
      "source": [
        "#Conditionals: if, then, else, elif\n",
        "\n",
        "\n",
        "#for loops\n",
        "\n",
        "fruits = [\"apple\", \"banana\", \"cherry\"]\n",
        "for fruit in fruits:\n",
        "  print(fruit)\n",
        "\n",
        "pets = {'cat': 'cute', 'dog': 'furry'}\n",
        "for key, value in pets.items():\n",
        "  print(f'A {key} is {value}')\n",
        "\n",
        "#while loops:\n",
        "count = 0\n",
        "while count < 5:\n",
        "  print(count)\n",
        "  count += 1 #can als0 use break, continue, else in a while loop or for loop.\n",
        "\n",
        "player_id = 1\n",
        "roles = ['buyer','seller']\n",
        "if player_id % 2 == 0:\n",
        "  player_role = roles[0]\n",
        "else: player_role = roles[1]\n",
        "print(player_role)\n",
        "\n",
        "\n"
      ],
      "metadata": {
        "colab": {
          "base_uri": "https://localhost:8080/"
        },
        "id": "_sg-FzzImOl0",
        "outputId": "a486feae-3deb-46fc-ddc9-ca65a3ff253a"
      },
      "execution_count": 44,
      "outputs": [
        {
          "output_type": "stream",
          "name": "stdout",
          "text": [
            "apple\n",
            "banana\n",
            "cherry\n",
            "A cat is cute\n",
            "A dog is furry\n",
            "0\n",
            "1\n",
            "2\n",
            "3\n",
            "4\n",
            "seller\n"
          ]
        }
      ]
    },
    {
      "cell_type": "code",
      "source": [
        "#Functions:\n",
        "def add_numbers(a,b):\n",
        "  return a + b\n",
        "\n",
        "a,b = 3,5\n",
        "added = add_numbers(a,b)\n",
        "print(added)\n",
        "\n",
        "#Docstrings\n",
        "def calculate_area(radius):\n",
        "  \"\"\"\n",
        "  Calculate the area of a circle given its radius.\n",
        "  \"\"\"\n",
        "  return 3.14159265 * radius ** 2\n",
        "\n",
        "radius = 3\n",
        "area = calculate_area(radius)\n",
        "print(area)\n",
        "\n",
        "#Default parameters:\n",
        "def power(base, exponent=2):\n",
        "  return base ** exponent\n",
        "\n",
        "base = 10\n",
        "fin = power(base, exponent = 2)\n",
        "print(fin)"
      ],
      "metadata": {
        "colab": {
          "base_uri": "https://localhost:8080/"
        },
        "id": "LXvDHVFHo19b",
        "outputId": "30b9f49a-a0c5-4fa9-a2f2-6a22b940cf60"
      },
      "execution_count": 60,
      "outputs": [
        {
          "output_type": "stream",
          "name": "stdout",
          "text": [
            "8\n",
            "28.27433385\n",
            "100\n"
          ]
        }
      ]
    },
    {
      "cell_type": "code",
      "source": [
        "#Exercise 1:\n",
        "import random\n",
        "\n",
        "def assign_treatments(num_participants, treatments_options):\n",
        "  \"\"\"\n",
        "  Randomly assign participants to treatments\n",
        "  Return a list of assigned treatments\n",
        "  \"\"\"\n",
        "  assignments = []\n",
        "\n",
        "  for participant_id in range(1,num_participants+1):\n",
        "    treatment = random.choice(treatments_options)\n",
        "    assignments.append(treatment)\n",
        "    # assignments[f\"player {participant_id}\"] = treatment\n",
        "\n",
        "  return assignments\n",
        "\n",
        "#Test your function\n",
        "num_participants = 10\n",
        "treatments_options = ['Control','Treatment A', 'Treatment B']\n",
        "assignments = assign_treatments(num_participants, treatments_options)\n",
        "print(assignments)\n",
        "\n"
      ],
      "metadata": {
        "colab": {
          "base_uri": "https://localhost:8080/"
        },
        "id": "-c2OwxWQqRjc",
        "outputId": "541d083a-d516-4e25-a889-d952ff2496a9"
      },
      "execution_count": 64,
      "outputs": [
        {
          "output_type": "stream",
          "name": "stdout",
          "text": [
            "['Treatment A', 'Treatment A', 'Control', 'Control', 'Treatment B', 'Control', 'Treatment A', 'Treatment B', 'Treatment B', 'Treatment A']\n"
          ]
        }
      ]
    }
  ]
}