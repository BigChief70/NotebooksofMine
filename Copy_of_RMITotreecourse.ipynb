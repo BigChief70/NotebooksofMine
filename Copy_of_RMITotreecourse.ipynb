{
  "nbformat": 4,
  "nbformat_minor": 0,
  "metadata": {
    "colab": {
      "provenance": [],
      "authorship_tag": "ABX9TyN6qn7YAj+TY5rJGsVE8xHK",
      "include_colab_link": true
    },
    "kernelspec": {
      "name": "python3",
      "display_name": "Python 3"
    },
    "language_info": {
      "name": "python"
    }
  },
  "cells": [
    {
      "cell_type": "markdown",
      "metadata": {
        "id": "view-in-github",
        "colab_type": "text"
      },
      "source": [
        "<a href=\"https://colab.research.google.com/github/BigChief70/NotebooksofMine/blob/main/Copy_of_RMITotreecourse.ipynb\" target=\"_parent\"><img src=\"https://colab.research.google.com/assets/colab-badge.svg\" alt=\"Open In Colab\"/></a>"
      ]
    },
    {
      "cell_type": "markdown",
      "source": [
        "**Starting off with introduction to python code variable types**\n",
        "\n",
        "*   Printing strings\n",
        "*   Appending strings\n",
        "*   Using strings and integer field together.\n",
        "\n"
      ],
      "metadata": {
        "id": "6GYxgCn4bykm"
      }
    },
    {
      "cell_type": "code",
      "execution_count": null,
      "metadata": {
        "colab": {
          "base_uri": "https://localhost:8080/"
        },
        "id": "NtoahYwDXfn4",
        "outputId": "8bcfe2a6-a4c0-4111-fc35-5fc20b4f4376"
      },
      "outputs": [
        {
          "output_type": "stream",
          "name": "stdout",
          "text": [
            "sylvanus\n",
            "SYLVANUS\n",
            "sylvanus\n",
            "Sylvanus\n",
            "sylvanus is 20\n"
          ]
        }
      ],
      "source": [
        "name = 'sylvanus'\n",
        "print(name)\n",
        "\n",
        "print(name.upper())\n",
        "print(name.lower())\n",
        "\n",
        "print(name.upper().replace('YLVANUS','ylvanus'))\n",
        "\n",
        "age = 20\n",
        "\n",
        "print(name + ' is ' + str(age))\n",
        "\n"
      ]
    },
    {
      "cell_type": "markdown",
      "source": [
        "**Using formulas with integers and introducing logic tests**\n",
        "\n",
        "*   Making integer fields\n",
        "*   Playing with basic sums.\n",
        "*   Testing equality"
      ],
      "metadata": {
        "id": "urCqYg4ecuOP"
      }
    },
    {
      "cell_type": "code",
      "source": [
        "x,y = 9,2\n",
        "print(x%y +100 ** 5 == 3)\n",
        "\n",
        "print(x%y)\n",
        "print(x//y)\n",
        "\n",
        "print(x%y +100 **5)\n",
        "\n",
        "print(x%y + 100 ** 5 == 10000000001)\n",
        "\n"
      ],
      "metadata": {
        "id": "-XR8v_VgceDm"
      },
      "execution_count": null,
      "outputs": []
    },
    {
      "cell_type": "markdown",
      "source": [
        "# **Lists in python**\n",
        "\n",
        "This section explores the use of lists and appending or editing them."
      ],
      "metadata": {
        "id": "6zwEVnkIOtka"
      }
    },
    {
      "cell_type": "code",
      "source": [
        "my_list = [5,7,9]\n",
        "mixed = [1, \"app\", True, 3.14, [1.2]]\n",
        "lst =[1,2]\n",
        "print(len(lst))\n",
        "print(lst[0])\n",
        "print(lst[-1])\n",
        "lst.append(3)\n",
        "print(lst)\n",
        "print(lst.pop())\n",
        "print(lst)\n",
        "\n",
        "print(\"append list:\")\n",
        "lst.append([3,4,7,6,2,0,9])\n",
        "print(lst)\n",
        "\n",
        "print(\"making lst2:\")\n",
        "lst2 = lst.pop()\n",
        "lst.append(3)\n",
        "print(lst)\n",
        "print(lst2)\n",
        "\n",
        "nest = [1,2,[3,4]]\n",
        "nest[2][1]\n",
        "\n",
        "print(\"sorted lst2\")\n",
        "lst2_1 = sorted(lst2)\n",
        "print(lst2_1)\n",
        "\n",
        "#can also use sort() function but does not output anything like sorted(), just alters existing list.\n",
        "\n",
        "print(\"sort not sorted\")\n",
        "lst2.sort()\n",
        "print(lst2)\n",
        "\n",
        "\n"
      ],
      "metadata": {
        "id": "R1hHzXWXaid9",
        "colab": {
          "base_uri": "https://localhost:8080/"
        },
        "outputId": "02ac4179-4210-40ba-9eee-9ae9e65afe77"
      },
      "execution_count": null,
      "outputs": [
        {
          "output_type": "stream",
          "name": "stdout",
          "text": [
            "2\n",
            "1\n",
            "2\n",
            "[1, 2, 3]\n",
            "3\n",
            "[1, 2]\n",
            "append list:\n",
            "[1, 2, [3, 4, 7, 6, 2, 0, 9]]\n",
            "making lst2:\n",
            "[1, 2, 3]\n",
            "[3, 4, 7, 6, 2, 0, 9]\n",
            "sorted lst2\n",
            "[0, 2, 3, 4, 6, 7, 9]\n",
            "sort not sorted\n",
            "[0, 2, 3, 4, 6, 7, 9]\n"
          ]
        }
      ]
    },
    {
      "cell_type": "markdown",
      "source": [
        "# **Dictionaries**\n",
        "\n",
        "Following on from lists, we explore a certain type of list called a dictionary, which assigns values.\n",
        "\n"
      ],
      "metadata": {
        "id": "vR2J-ee8O9hz"
      }
    },
    {
      "cell_type": "code",
      "source": [
        "\n",
        "\n",
        "my_dict = {\n",
        "    'cat': 'cute',\n",
        "    'dog': 'furry'\n",
        "}\n",
        "\n",
        "#or can use:\n",
        "\n",
        "my_dict = dict(\n",
        "    cat='cute',\n",
        "    dog='furry'\n",
        ")\n",
        "\n",
        "d = {'1': True, 'a':6}\n",
        "\n",
        "dictionary = {'key1':{'apple':30},'key2':56}\n",
        "\n",
        "print(dictionary.get('key3')) #get outputs 'missing' and does not cause error, very useful!!\n",
        "\n",
        "print(dictionary.get('key2'))\n",
        "\n",
        "print(dictionary.get('key1'))\n"
      ],
      "metadata": {
        "colab": {
          "base_uri": "https://localhost:8080/"
        },
        "id": "GwWXBNeVgCGc",
        "outputId": "b3cdb81a-b6a7-42b4-d38c-bbc50ad5b40a"
      },
      "execution_count": null,
      "outputs": [
        {
          "output_type": "stream",
          "name": "stdout",
          "text": [
            "None\n",
            "56\n",
            "{'apple': 30}\n"
          ]
        }
      ]
    },
    {
      "cell_type": "markdown",
      "source": [
        "# **Conditionals**\n",
        "\n",
        "There are multiple types of conditionals in python, these are:\n",
        "\n",
        " - if\n",
        " - then\n",
        " - else\n",
        " - elif\n",
        " - for\n",
        "\n",
        " These will explained below:\n"
      ],
      "metadata": {
        "id": "kFeI7SKwPlCY"
      }
    },
    {
      "cell_type": "code",
      "source": [
        "\n",
        "\n",
        "#for loops\n",
        "\n",
        "fruits = [\"apple\", \"banana\", \"cherry\"]\n",
        "for fruit in fruits:\n",
        "  print(fruit)\n",
        "\n",
        "pets = {'cat': 'cute', 'dog': 'furry'}\n",
        "for key, value in pets.items():\n",
        "  print(f'A {key} is {value}')\n",
        "\n",
        "#while loops:\n",
        "count = 0\n",
        "while count < 5:\n",
        "  print(count)\n",
        "  count += 1 #can als0 use break, continue, else in a while loop or for loop.\n",
        "\n",
        "player_id = 1\n",
        "roles = ['buyer','seller']\n",
        "if player_id % 2 == 0:\n",
        "  player_role = roles[0]\n",
        "else: player_role = roles[1]\n",
        "print(player_role)\n",
        "\n",
        "\n"
      ],
      "metadata": {
        "colab": {
          "base_uri": "https://localhost:8080/"
        },
        "id": "_sg-FzzImOl0",
        "outputId": "a486feae-3deb-46fc-ddc9-ca65a3ff253a"
      },
      "execution_count": null,
      "outputs": [
        {
          "output_type": "stream",
          "name": "stdout",
          "text": [
            "apple\n",
            "banana\n",
            "cherry\n",
            "A cat is cute\n",
            "A dog is furry\n",
            "0\n",
            "1\n",
            "2\n",
            "3\n",
            "4\n",
            "seller\n"
          ]
        }
      ]
    },
    {
      "cell_type": "markdown",
      "source": [
        "# **Functions**\n",
        "\n"
      ],
      "metadata": {
        "id": "LsFyhiiCQIUk"
      }
    },
    {
      "cell_type": "code",
      "source": [
        "\n",
        "def add_numbers(a,b):\n",
        "  return a + b\n",
        "\n",
        "a,b = 3,5\n",
        "added = add_numbers(a,b)\n",
        "print(added)\n",
        "\n",
        "#Docstrings\n",
        "def calculate_area(radius):\n",
        "  \"\"\"\n",
        "  Calculate the area of a circle given its radius.\n",
        "  \"\"\"\n",
        "  return 3.14159265 * radius ** 2\n",
        "\n",
        "radius = 3\n",
        "area = calculate_area(radius)\n",
        "print(area)\n",
        "\n",
        "#Default parameters:\n",
        "def power(base, exponent=2):\n",
        "  return base ** exponent\n",
        "\n",
        "base = 10\n",
        "fin = power(base, exponent = 2)\n",
        "print(fin)"
      ],
      "metadata": {
        "colab": {
          "base_uri": "https://localhost:8080/"
        },
        "id": "LXvDHVFHo19b",
        "outputId": "30b9f49a-a0c5-4fa9-a2f2-6a22b940cf60"
      },
      "execution_count": null,
      "outputs": [
        {
          "output_type": "stream",
          "name": "stdout",
          "text": [
            "8\n",
            "28.27433385\n",
            "100\n"
          ]
        }
      ]
    },
    {
      "cell_type": "code",
      "source": [
        "#Exercise 1:\n",
        "import random\n",
        "\n",
        "def assign_treatments(num_participants, treatments_options):\n",
        "  \"\"\"\n",
        "  Randomly assign participants to treatments\n",
        "  Return a list of assigned treatments\n",
        "  \"\"\"\n",
        "  assignments = []\n",
        "\n",
        "  for participant_id in range(1,num_participants+1):\n",
        "    treatment = random.choice(treatments_options)\n",
        "    assignments.append(treatment)\n",
        "    # assignments[f\"player {participant_id}\"] = treatment\n",
        "\n",
        "  return assignments\n",
        "\n",
        "#Test your function\n",
        "num_participants = 10\n",
        "treatments_options = ['Control','Treatment A', 'Treatment B']\n",
        "assignments = assign_treatments(num_participants, treatments_options)\n",
        "print(assignments)\n",
        "\n"
      ],
      "metadata": {
        "colab": {
          "base_uri": "https://localhost:8080/"
        },
        "id": "-c2OwxWQqRjc",
        "outputId": "541d083a-d516-4e25-a889-d952ff2496a9"
      },
      "execution_count": null,
      "outputs": [
        {
          "output_type": "stream",
          "name": "stdout",
          "text": [
            "['Treatment A', 'Treatment A', 'Control', 'Control', 'Treatment B', 'Control', 'Treatment A', 'Treatment B', 'Treatment B', 'Treatment A']\n"
          ]
        }
      ]
    },
    {
      "cell_type": "markdown",
      "source": [
        "# **o-Tree Description**\n",
        "\n",
        "From here o-Tree will be discussed in relation to Python.\n",
        "\n",
        "starting with functions, defined using *def* command.\n",
        "\n"
      ],
      "metadata": {
        "id": "tkORTNtZEIA4"
      }
    },
    {
      "cell_type": "code",
      "source": [
        "#We will look at the expample from last week again.\n",
        "#Exercise 1:\n",
        "import random\n",
        "\n",
        "def assign_treatments(num_participants, treatments_options):\n",
        "  \"\"\"\n",
        "  Randomly assign participants to treatments\n",
        "  Return a list of assigned treatments\n",
        "  \"\"\"\n",
        "  assignments = []\n",
        "\n",
        "  for participant_id in range(1,num_participants+1):\n",
        "    treatment = random.choice(treatments_options)\n",
        "    assignments.append(treatment)\n",
        "    # assignments[f\"player {participant_id}\"] = treatment\n",
        "\n",
        "  return assignments\n",
        "\n",
        "#Test your function\n",
        "num_participants = 10\n",
        "treatments_options = ['Control','Treatment A', 'Treatment B']\n",
        "assignments = assign_treatments(num_participants, treatments_options)\n",
        "print(assignments)\n"
      ],
      "metadata": {
        "id": "QFCwz_3DEiDU"
      },
      "execution_count": null,
      "outputs": []
    },
    {
      "cell_type": "code",
      "source": [],
      "metadata": {
        "id": "XQaNwFqg0hEQ"
      },
      "execution_count": null,
      "outputs": []
    },
    {
      "cell_type": "code",
      "source": [],
      "metadata": {
        "id": "nO4cvLN9V2dH"
      },
      "execution_count": null,
      "outputs": []
    },
    {
      "cell_type": "markdown",
      "source": [
        "# **o-Tree Fundamentals continued**\n",
        "\n",
        "### Agenda\n",
        "1.   Creating\"projects\" and \"apps\"\n",
        "2.   Structure of an o-Tree project (o-tree hub and PyCharm)\n",
        "3.   Key components\n",
        "4.   Styling and formatting\n",
        "5.   Running and Troubleshooting\n",
        "\n",
        "\n",
        "### Structure of o-Tree project\n",
        "\n",
        "Subsession for each round and each seperate game in a session.\n",
        "\n",
        "Project has seperate sections:\n",
        "\n",
        "\n",
        "*   Settings\n",
        "*   Database\n",
        "*   Apps\n",
        "\n",
        "Each app has models (objects) and pages (views). These views are Templates(HTML) and \"static\" content.\n",
        "\n",
        "Breaking up a project into multiple apps you can reuse apps and they can communicate very easily.\n",
        "\n",
        "Models are the brains and objects in the page which the participant sees.\n",
        "\n",
        "\"Static\" is a directory with styles (CSS = style sheet) that make the pages look prettier. HTML structures the content in a page, while styles make things look better. There are also scripts written in Javascript. Not really going to use this but still useful. Images/Videos and PDFs are also included in this type of content.\n",
        "\n",
        "\n",
        "o-Tree Studio is kinda bad... Use PyCharm\n",
        "\n",
        "**Advice from Kendall:** Do not have spaces in names and keep everything lower-case.\n",
        "\n",
        "If you want multiple lagnuages this is quite difficult.\n",
        "\n",
        "Name of Class shout be written starting with a capital letter.\n",
        "\n",
        "There is another field called long stingfield as below. If you do the below it will make it optional.\n",
        "```\n",
        "comment = model.LongStringField(label = \"What is your opinion?(optional)\", blank = True)\n",
        "\n",
        "```\n",
        "Allows a longer answer than a string field.\n",
        "\n",
        "**Advice from Kendall:** Get rid of next on final page so it does not go to blank page with \"no more pages\".\n",
        "\n",
        "How to do a link?\n",
        "\n",
        "\n",
        "```\n",
        "#if want a hyperlink to website:\n",
        "<a href = \"http://www.rmit.edu.au\">RMIT University website</a>\n",
        "\n",
        "#if want a link to a PDF in your static directory\n",
        "<a href = \"{{ static 'global/pdfs/my_document.pdf'}}\">PDF</a>\n",
        "```\n",
        "\n",
        "\n",
        "Use anaconda, it manages and simplifies the dependencies of packages.\n",
        "\n",
        "First you make a new project on PyCharm or other.\n",
        "\n",
        "Need to make sure terminal looks like:\n",
        "\n",
        "```\n",
        "(Project_Name) PS C://current_directory\n",
        "```\n",
        "\n",
        "If it is not select: File> Settings> Project:Project_Name> Python Interpreter\n",
        "\n",
        "Make sure this is set up correctly\n",
        "\n",
        "Then when installing otree use:\n",
        "\n",
        "\n",
        "```\n",
        "pip install otree\n",
        "\n",
        "# if want a specific version of otree\n",
        "pip install otree==5.11\n",
        "\n",
        "```\n",
        "\n",
        "pip is another package manager like anaconda.\n",
        "\n",
        "Then start a new o-Tree project:\n",
        "\n",
        "\n",
        "\n",
        "```\n",
        "(Project_Name) PS C://current_directory> otree startproject Project_Name\n",
        "\n",
        "*then need to change directory to project directory\n",
        "\n",
        "(Project_Name) PS C://current_directory> cd Project_Name\n",
        "\n",
        "```\n",
        "Then start an app\n",
        "\n",
        "```\n",
        "(Project_Name) PS C://current_directory> otree startapp App_Name\n",
        "```\n",
        "Apps within a project can share information and connect to each other.\n",
        "\n",
        "The structure of all otree projects are below:\n",
        "```\n",
        "Project_Name\n",
        "    _static/\n",
        "        --global/\n",
        "            --emplty.css\n",
        "            --global.css\n",
        "    _templates/\n",
        "        --global/\n",
        "            --page.html\n",
        "    _app1/\n",
        "        --__init__.py\n",
        "        --MyPage.html\n",
        "        --Results.html\n",
        "    _app2/\n",
        "        --__init__.py\n",
        "        --MyPage.html\n",
        "        --Results.html\n",
        "    Profile\n",
        "    db.sqlite3\n",
        "    settings.py\n",
        "    requirements.txt\n",
        "\n",
        "```\n",
        "\n",
        "Can store any pictures and pdfs in _static for global static files\n",
        "\n",
        "Can store templates in the _templates folder for global templates\n",
        "\n",
        "Example global.css\n",
        "```\n",
        "html, body {\n",
        "      background-colour: #333333;\n",
        "}\n",
        "\n",
        ".page_header {\n",
        "  border-bottom: 1px solide #ccc;\n",
        "  padding-bottom: 30px;\n",
        "  margin-bottom: 30px;\n",
        "  margin-top: 10px;\n",
        "}\n",
        "\n",
        "```\n",
        "\n",
        "Example HTML page\n",
        "```\n",
        "{{block title}}\n",
        "    Page Title\n",
        "{{endblock}}\n",
        "\n",
        "{{block content}}\n",
        "    < -- Page content goes here -->\n",
        "\n",
        "    <h3> Welcome!</h3>\n",
        "\n",
        "    {{formfields}}\n",
        "\n",
        "    <hr/>\n",
        "\n",
        "{{endblock}}\n",
        "\n",
        "```\n",
        "\n",
        "When you want to test your server:\n",
        "```\n",
        "(Project_Name) PS C://current_directory> otree devserver\n",
        "```\n",
        "\n",
        "\n"
      ],
      "metadata": {
        "id": "hVExGNBEzDAW"
      }
    },
    {
      "cell_type": "code",
      "source": [
        "## to run project need at least 1 app.\n",
        "## all code goes into __init__.py\n",
        "## All pages must start with capital letter as python requires a class name starts with a capital.\n",
        "\n",
        "## Example __init__.py\n",
        "\n",
        "from otree.api import *\n",
        "\n",
        "\n",
        "\n",
        "class C(BaseConstants):\n",
        "    NAME_IN_URL = 'public_goods_simple'\n",
        "    PLAYERS_PER_GROUP = 3\n",
        "    NUM_ROUNDS = 1\n",
        "    ENDOWMENT = cu(100)\n",
        "    MULTIPLIER = 1.8\n",
        "\n",
        "\n",
        "class Subsession(BaseSubsession):\n",
        "    pass\n",
        "\n",
        "\n",
        "class Group(BaseGroup):\n",
        "    total_contribution = models.CurrencyField()\n",
        "    individual_share = models.CurrencyField()\n",
        "\n",
        "\n",
        "class Player(BasePlayer):\n",
        "    contribution = models.CurrencyField(\n",
        "        min=0, max=C.ENDOWMENT, label=\"How much will you contribute?\"\n",
        "    )\n",
        "\n",
        "\n",
        "# FUNCTIONS\n",
        "def set_payoffs(group: Group):\n",
        "    players = group.get_players()\n",
        "    contributions = [p.contribution for p in players]\n",
        "    group.total_contribution = sum(contributions)\n",
        "    group.individual_share = (\n",
        "        group.total_contribution * C.MULTIPLIER / C.PLAYERS_PER_GROUP\n",
        "    )\n",
        "    for p in players:\n",
        "        p.payoff = C.ENDOWMENT - p.contribution + group.individual_share\n",
        "\n",
        "\n",
        "# PAGES\n",
        "class Contribute(Page):\n",
        "    form_model = 'player'\n",
        "    form_fields = ['contribution']\n",
        "\n",
        "\n",
        "class ResultsWaitPage(WaitPage):\n",
        "    after_all_players_arrive = set_payoffs\n",
        "\n",
        "\n",
        "class Results(Page):\n",
        "    pass\n",
        "\n",
        "\n",
        "page_sequence = [Contribute, ResultsWaitPage, Results]\n",
        "\n"
      ],
      "metadata": {
        "id": "YEJ_PriocA-w"
      },
      "execution_count": null,
      "outputs": []
    },
    {
      "cell_type": "code",
      "source": [
        "## Example settings.py\n",
        "\n",
        "from os import environ\n",
        "\n",
        "\n",
        "SESSION_CONFIGS = [\n",
        "    dict(\n",
        "        name='guess_two_thirds',\n",
        "        display_name=\"Guess 2/3 of the Average\",\n",
        "        app_sequence=['guess_two_thirds', 'payment_info'],\n",
        "        num_demo_participants=3,\n",
        "    ),\n",
        "    dict(\n",
        "        name='survey', app_sequence=['survey', 'payment_info'], num_demo_participants=1\n",
        "    ),\n",
        "]\n",
        "\n",
        "# if you set a property in SESSION_CONFIG_DEFAULTS, it will be inherited by all configs\n",
        "# in SESSION_CONFIGS, except those that explicitly override it.\n",
        "# the session config can be accessed from methods in your apps as self.session.config,\n",
        "# e.g. self.session.config['participation_fee']\n",
        "\n",
        "SESSION_CONFIG_DEFAULTS = dict(\n",
        "    real_world_currency_per_point=1.00, participation_fee=0.00, doc=\"\"\n",
        ")\n",
        "\n",
        "PARTICIPANT_FIELDS = []\n",
        "SESSION_FIELDS = []\n",
        "\n",
        "# ISO-639 code\n",
        "# for example: de, fr, ja, ko, zh-hans\n",
        "LANGUAGE_CODE = 'en'\n",
        "\n",
        "# e.g. EUR, GBP, CNY, JPY\n",
        "REAL_WORLD_CURRENCY_CODE = 'USD'\n",
        "USE_POINTS = True\n",
        "\n",
        "ROOMS = [\n",
        "    dict(\n",
        "        name='econ101',\n",
        "        display_name='Econ 101 class',\n",
        "        participant_label_file='_rooms/econ101.txt',\n",
        "    ),\n",
        "    dict(name='live_demo', display_name='Room for live demo (no participant labels)'),\n",
        "]\n",
        "\n",
        "ADMIN_USERNAME = 'admin'\n",
        "# for security, best to set admin password in an environment variable\n",
        "ADMIN_PASSWORD = environ.get('OTREE_ADMIN_PASSWORD')\n",
        "\n",
        "DEMO_PAGE_INTRO_HTML = \"\"\"\n",
        "Here are some oTree games.\n",
        "\"\"\"\n",
        "\n",
        "\n",
        "SECRET_KEY = '1716853573670'\n",
        "\n",
        "INSTALLED_APPS = ['otree']\n",
        "\n",
        "#If want to do multiple apps need to add apps as seperate dictionaries like below:\n",
        "\n",
        "SESSION_CONFIGS = [\n",
        "    dict(\n",
        "        name='guess_two_thirds',\n",
        "        display_name=\"Guess 2/3 of the Average\",\n",
        "        app_sequence=['guess_two_thirds', 'payment_info'],\n",
        "        num_demo_participants=3,\n",
        "    ),\n",
        "    dict(\n",
        "        name='survey', app_sequence=['survey', 'payment_info'], num_demo_participants=1\n",
        "    ),\n",
        "]"
      ],
      "metadata": {
        "id": "csioWqOnkKb8"
      },
      "execution_count": null,
      "outputs": []
    },
    {
      "cell_type": "code",
      "source": [
        "# to put in a otree file from o-Tree hub and start local host server:\n",
        "otree zipserver .\\survey.otreezip\n",
        "\n",
        "#the full stop means the current directory\n",
        "\n",
        "otree zipserver ..\\survey.otreezip\n",
        "#the two full stops mean one folder back in the current directory\n",
        "\n",
        "\n",
        "\n"
      ],
      "metadata": {
        "colab": {
          "base_uri": "https://localhost:8080/",
          "height": 106
        },
        "collapsed": true,
        "id": "8tFx500QGd6y",
        "outputId": "0726fc56-456b-498a-f0b4-5815945cec1d"
      },
      "execution_count": null,
      "outputs": [
        {
          "output_type": "error",
          "ename": "SyntaxError",
          "evalue": "unexpected character after line continuation character (<ipython-input-1-ceb31cc75f42>, line 2)",
          "traceback": [
            "\u001b[0;36m  File \u001b[0;32m\"<ipython-input-1-ceb31cc75f42>\"\u001b[0;36m, line \u001b[0;32m2\u001b[0m\n\u001b[0;31m    otree zipserver .\\survey.otreezip\u001b[0m\n\u001b[0m                      ^\u001b[0m\n\u001b[0;31mSyntaxError\u001b[0m\u001b[0;31m:\u001b[0m unexpected character after line continuation character\n"
          ]
        }
      ]
    },
    {
      "cell_type": "markdown",
      "source": [
        "# **Running experiment guide**\n",
        "\n",
        "The BBL is a research group and also the lab at the university.\n",
        "\n",
        "Lab found in building 13, level 4, room 003. The control room is room 003a.\n",
        "\n",
        "Can login to control room with on RMIT login but must log using BBL Login on experimental computers.\n",
        "\n",
        "Software:\n",
        "- z-Tree: need licence\n",
        "- o- Tree\n",
        "- qualtrics\n",
        "\n",
        "Who can run experiments?\n",
        " - EFM Staff\n",
        " - EFM HDR Staff\n",
        " - Former EFM staff finishing a project started at RMIT.\n",
        " - Former EFM HDR Students finishing a project started at RMIT.\n",
        " - Outside researchers for a fee can use it\n",
        "\n",
        "Participant pool is ORSEE, a common resource.\n",
        "\n",
        "All experiments need to go thorough ethics, participants need to be treated respectfully as if they are a student.\n",
        "\n",
        "All new users of the lab must send an e-mail to the Lab director confirming they have read BBL Guidelines and agree to abide by them.\n",
        "\n",
        "HDR students and new staff must forward ethics approval letters to lab.\n",
        "\n",
        "New lab users should be an observer a couple of times at least.\n",
        "\n",
        "Workshops on running experiments will periodically be conducted for interested personnel.\n",
        "\n",
        "\n"
      ],
      "metadata": {
        "id": "UX06K7CcQQFu"
      }
    },
    {
      "cell_type": "markdown",
      "source": [
        "# **Guidelines for experimental design**\n",
        "\n",
        "\n",
        "Follow example in Friedman, D., and S.Sunder (1994). Experimental methods: A primer for economists, Cambridge university press.\n",
        "\n",
        "No deception is allowed.\n",
        "\n",
        "Lab users are expected to compensate participants reasonably for their time. Average participant payment should not fall too far below $30 per hour target.\n",
        "\n",
        "Show-up payments are guaranteed amounts participants should be received at minimum.\n",
        "\n",
        "Current show-up payments:\n",
        " - \\$ 10 per session for any participants who participate.\n",
        " - \\$12 per participant who arrived on time but was \"bumped\" from a session for any reason.\n",
        "\n"
      ],
      "metadata": {
        "id": "Rlod6NldSXIs"
      }
    },
    {
      "cell_type": "markdown",
      "source": [
        "# **Human research Ethics**\n",
        "\n",
        "Must have up-to-date training.\n",
        "\n",
        "Human research ethics aprroval required as part of any research.\n",
        "\n",
        "Need to obtain and maintain ethics.\n",
        "\n",
        "Should save two months at least for ethics review process. Apply online.\n",
        "\n",
        "\"Standard\", previously approved ethics applications for a lab experiment are available.\n",
        "\n",
        "Consent form is a document participants must sign, either physically or electronically at the beginning of each session.\n",
        "\n",
        "If you use electronic consent how you manage data and consent information should follow data management plan.\n"
      ],
      "metadata": {
        "id": "ukYg3lyMTuGf"
      }
    },
    {
      "cell_type": "markdown",
      "source": [
        "# **Scheduling regulare sessions**\n",
        "\n",
        "Experimntal sessions should be scheduled at lease 72 hours before in the internal google calendar.\n",
        "\n",
        "Scheduling is done in three hour blocks starting 9am, ending at 9 pm.\n",
        "\n",
        "At most two blocks per week per line of research can be scheduled more than one week in advance during periods of high demand.\n",
        "\n",
        "**Software should be tested before sessions in a pilot**\n"
      ],
      "metadata": {
        "id": "tv6golY2VLx8"
      }
    },
    {
      "cell_type": "markdown",
      "source": [
        "# Pilot sessions\n",
        "\n",
        "Pilot sessions can be run at any time the lab is free. Sessions should be scheduled in the Calendar similar to regular sessions, but marked as \"pilot\"\n",
        "\n",
        "Pilot session using ORSEE require ethics approval.\n",
        "\n"
      ],
      "metadata": {
        "id": "VEU3vmIdWFhR"
      }
    },
    {
      "cell_type": "markdown",
      "source": [
        "# **Recruiting of participants in ORSEE**\n",
        "\n",
        "ORSEE account given to researcher who is trusted.\n",
        "\n",
        "If have no account email lab member with details to get them to open session for you.\n",
        "\n",
        "### Cancelling a session\n",
        " - If without participants signed-up can cancel easily\n",
        " - If cancel more than 24 hours in advance there is no worries.\n",
        " - Less than 24 hours means someone must go to lab and pay any participants who still show up.\n",
        "\n",
        "### Paper receipts\n",
        " - must be stored in a secure location as per data management plan. Should be mentioned in ethics application.\n",
        "\n",
        "### Before session\n",
        "- bring everything printed already\n",
        "- open computers\n",
        "- login computers\n",
        "- initialise z-tree server or o-tree server\n",
        "- plan to set up 10 mins before opening.\n",
        "- check email lab regularly\n",
        "\n",
        "# **Starting a Session**\n",
        "1.   line up particiants\n",
        "2.   check student ID\n",
        "3.   tick their name\n",
        "4.   fill in the rest of your receipt besides signature to speed things up\n",
        "\n",
        "\n",
        "# **Dealing with no-shows, late shows**\n",
        "1.   If participants do not show up considered no-show\n",
        "2.   All parrticipants arriving on-time, and not refusing to participate, are entitled to a show up payment.\n",
        "3.   The experimenters discretion whether to allow for participation for those arriving late or paying show-up fee.\n",
        "4.   Being late can be listed as no-shows or late.\n",
        "\n",
        "# **Dealing with overbooked sessions (\"bumbs\")**\n",
        "If more than necessary numbers of participants show up need to use a fair procedure for bumps.\n",
        "- draw bumps randomly\n",
        "- ask for volunteers to not participate\n",
        "- first-come-first-served\n",
        "\n",
        "Be extra courteous. Make clear bumps are eligible for future sessions.\n",
        "\n",
        "If a partcipant is bumped from previous session do not bump them again.\n",
        "\n",
        "Bump need to be asked to leave before experiment starts. Should be paid show-up fee immediately.\n",
        "\n",
        "# **Consent procedure**\n",
        "Necessary at the start of every session\n",
        "All people not allowed to do experiment unless gained consent.\n",
        "Should be part of your ethics application.\n",
        "\n",
        "# **Dealing with emergencies and interuptions**\n",
        "Need to use own judgment.\n",
        "Handle emergencies same as if you are teaching.\n",
        "If a participant decides to leave during an experiment they can and need to bump extra participants.\n",
        "\n",
        "# **Payment**\n",
        "Cash payments are not allowed.\n",
        "Can only use electronic transfers or gift card.\n",
        "If experiment are incentivised easiest and best to use electronic transfers.\n",
        "z-Tree generate a pay file.\n",
        "If calling out someone use first name and maybe first initial of last name.\n",
        "Prepare to receive call from bank if they flag payments as a potential scam.\n",
        "Can promise to pay participants later.\n",
        "\n",
        "# **Cleaning the lab**\n",
        "\n",
        "Whenever leaving lab, leave in pristine condition.\n",
        "\n",
        "Log out of all workstations and central computer.\n",
        "\n",
        "If your session was the last for the day shut down stations (NOT the central computer)\n",
        "\n",
        "Do not keep your dat or files in common areas.\n",
        "\n",
        "It is your responsibility to back up all data and ensure data security in accordance with ethics-approved protocol.\n",
        "\n",
        "# **Processing participants after a session**\n",
        "\n",
        "Lab users who have an ORSEE account a responsible for processing their participants.\n",
        "\n",
        "\n",
        "# **Subject pool maintenance**\n",
        "\n",
        "If BBL has a lab manager, they are responsible for subject pool maintenance, including\n",
        " - monitoring lab email\n",
        " - recruiting participants\n",
        " - etering participants into ORSEE after sessions and closing sessions.\n",
        " - Cleaning the database\n",
        "\n",
        " During times when no lab manager, it is expected members of BBL who have ORSEE account share this responsibility.\n",
        "\n",
        "**These guidelines are a living document what will be updated periodically on BBL webpage**\n",
        "\n"
      ],
      "metadata": {
        "id": "QYf6Q5OvWXgg"
      }
    }
  ]
}